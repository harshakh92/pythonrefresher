{
 "cells": [
  {
   "cell_type": "markdown",
   "metadata": {},
   "source": [
    "shuffeling a list"
   ]
  },
  {
   "cell_type": "code",
   "execution_count": 5,
   "metadata": {},
   "outputs": [
    {
     "name": "stdout",
     "output_type": "stream",
     "text": [
      "[8, 2, 4, 7, 12, 9, 0]\n"
     ]
    }
   ],
   "source": [
    "from random import shuffle\n",
    "list1 = [2,8,7,4,9,0,12]\n",
    "shuffle(list1)\n",
    "print(list1)"
   ]
  },
  {
   "cell_type": "markdown",
   "metadata": {},
   "source": [
    "Generating square numbers for first & last 5 elements of a list between a range of numbers"
   ]
  },
  {
   "cell_type": "code",
   "execution_count": 12,
   "metadata": {},
   "outputs": [
    {
     "name": "stdout",
     "output_type": "stream",
     "text": [
      "[1, 4, 9, 16, 25]\n",
      "[625, 676, 729, 784, 841]\n"
     ]
    }
   ],
   "source": [
    "def generatesquarenumbers(n):\n",
    "    l = []\n",
    "    for i in range(1,n):\n",
    "        l.append(i**2)\n",
    "        \n",
    "    print(l[:5])\n",
    "    print(l[-5:])\n",
    "\n",
    "\n",
    "generatesquarenumbers(30)"
   ]
  },
  {
   "cell_type": "markdown",
   "metadata": {},
   "source": [
    "Arrange all permutations of a given list"
   ]
  },
  {
   "cell_type": "code",
   "execution_count": 17,
   "metadata": {},
   "outputs": [
    {
     "name": "stdout",
     "output_type": "stream",
     "text": [
      "[(3, 2, 1), (3, 1, 2), (2, 3, 1), (2, 1, 3), (1, 3, 2), (1, 2, 3)]\n"
     ]
    }
   ],
   "source": [
    "import itertools\n",
    "\n",
    "print(list(itertools.permutations([3,2,1])))"
   ]
  },
  {
   "cell_type": "markdown",
   "metadata": {},
   "source": [
    "Accessing both list & index"
   ]
  },
  {
   "cell_type": "code",
   "execution_count": 19,
   "metadata": {},
   "outputs": [
    {
     "name": "stdout",
     "output_type": "stream",
     "text": [
      "index is 0 & the element is 2\n",
      "index is 1 & the element is 4\n",
      "index is 2 & the element is 5\n",
      "index is 3 & the element is 6\n",
      "index is 4 & the element is 7\n",
      "index is 5 & the element is 8\n",
      "index is 6 & the element is 9\n",
      "index is 7 & the element is 32\n",
      "index is 8 & the element is 46\n",
      "index is 9 & the element is 77\n"
     ]
    }
   ],
   "source": [
    "my_list2 = [2,4,5,6,7,8,9,32,46,77,89]\n",
    "\n",
    "for i in range(0,len(my_list2)-1):\n",
    "    print(f\"index is {i} & the element is {my_list2[i]}\")"
   ]
  },
  {
   "cell_type": "markdown",
   "metadata": {},
   "source": [
    "Converting a list to string"
   ]
  },
  {
   "cell_type": "code",
   "execution_count": 23,
   "metadata": {},
   "outputs": [
    {
     "name": "stdout",
     "output_type": "stream",
     "text": [
      "[3, 43, 54, 65, 76, 89, 99]\n",
      "<class 'str'>\n"
     ]
    }
   ],
   "source": [
    "my_list3 = [3,43,54,65,76,89,99]\n",
    "my_list4 = str(my_list3)\n",
    "print(my_list4)\n",
    "print(type(my_list4))"
   ]
  },
  {
   "cell_type": "markdown",
   "metadata": {},
   "source": [
    "find index of a given element in a list"
   ]
  },
  {
   "cell_type": "code",
   "execution_count": 25,
   "metadata": {},
   "outputs": [
    {
     "data": {
      "text/plain": [
       "3"
      ]
     },
     "execution_count": 25,
     "metadata": {},
     "output_type": "execute_result"
    }
   ],
   "source": [
    "def giveindex(list5,element):\n",
    "    for i in range(0,len(list5)-1):\n",
    "        if list5[i] == element:\n",
    "            return i\n",
    "        \n",
    "giveindex([3,4,5,7,8,9,],7)"
   ]
  },
  {
   "cell_type": "markdown",
   "metadata": {},
   "source": [
    "Merging a list which contains many sub lists"
   ]
  },
  {
   "cell_type": "code",
   "execution_count": 27,
   "metadata": {},
   "outputs": [
    {
     "name": "stdout",
     "output_type": "stream",
     "text": [
      "10\n"
     ]
    }
   ],
   "source": [
    "import itertools\n",
    "original_list = [[2, 4, 3], [1, 5, 6], [9], [7, 9, 0]]\n",
    "new_merged_list = list(itertools.chain(*original_list))\n",
    "print(len(new_merged_list))"
   ]
  },
  {
   "cell_type": "markdown",
   "metadata": {},
   "source": [
    "finding second largest & second smallest number in a list"
   ]
  },
  {
   "cell_type": "code",
   "execution_count": 35,
   "metadata": {},
   "outputs": [
    {
     "name": "stdout",
     "output_type": "stream",
     "text": [
      "Second smallest number: 3\n",
      "Second largest number: 66\n"
     ]
    }
   ],
   "source": [
    "def secondsmallestnumber(list6):\n",
    "    list6.sort()\n",
    "    return list6[1]\n",
    "\n",
    "def secondlargestnumber(list6):\n",
    "    list6.sort()\n",
    "    return list6[len(list6)-2]\n",
    "\n",
    "list6 = [3, 9, 2, 4, 9, 45, 66, 89]\n",
    "\n",
    "print(f\"Second smallest number: {secondsmallestnumber(list6)}\")\n",
    "print(f\"Second largest number: {secondlargestnumber(list6)}\")"
   ]
  },
  {
   "cell_type": "markdown",
   "metadata": {},
   "source": [
    "returning only unique values of a list"
   ]
  },
  {
   "cell_type": "code",
   "execution_count": 36,
   "metadata": {},
   "outputs": [
    {
     "name": "stdout",
     "output_type": "stream",
     "text": [
      "[1, 2, 3, 4, 5]\n"
     ]
    }
   ],
   "source": [
    "my_list = [1, 2, 2, 3, 4, 4, 5]\n",
    "unique_elements = list(set(my_list))\n",
    "print(unique_elements)"
   ]
  },
  {
   "cell_type": "markdown",
   "metadata": {},
   "source": [
    "Frequencies of elements in a list"
   ]
  },
  {
   "cell_type": "code",
   "execution_count": 37,
   "metadata": {},
   "outputs": [
    {
     "name": "stdout",
     "output_type": "stream",
     "text": [
      "{1: 1, 2: 2, 3: 1, 4: 2, 5: 3}\n"
     ]
    }
   ],
   "source": [
    "def element_frequency(my_list):\n",
    "    frequency = {}  \n",
    "\n",
    "    for item in my_list:\n",
    "        if item in frequency:\n",
    "            frequency[item] += 1  \n",
    "        else:\n",
    "            frequency[item] = 1  \n",
    "\n",
    "    return frequency\n",
    "\n",
    "my_list = [1, 2, 2, 3, 4, 4, 5, 5, 5]\n",
    "frequencies = element_frequency(my_list)\n",
    "print(frequencies)  "
   ]
  },
  {
   "cell_type": "markdown",
   "metadata": {},
   "source": [
    "Count number of elements within a range"
   ]
  },
  {
   "cell_type": "code",
   "execution_count": 44,
   "metadata": {},
   "outputs": [
    {
     "data": {
      "text/plain": [
       "6"
      ]
     },
     "execution_count": 44,
     "metadata": {},
     "output_type": "execute_result"
    }
   ],
   "source": [
    "def countnumberofelements(list7,min,max):\n",
    "    count = 0\n",
    "    for i in range(0,len(list7)-1):\n",
    "        if min < list7[i] < max:\n",
    "            count += 1\n",
    "    return count\n",
    "\n",
    "countnumberofelements([2,5,45,78,93,2,45,99,10,90,56],40,100)\n",
    "\n"
   ]
  },
  {
   "cell_type": "code",
   "execution_count": 47,
   "metadata": {},
   "outputs": [
    {
     "name": "stdout",
     "output_type": "stream",
     "text": [
      "[(0, 3), (1, 4), (2, 5), (3, 3), (4, 6), (5, 8), (6, 9), (7, 12), (8, 99)]\n"
     ]
    }
   ],
   "source": [
    "list8 = [3,4,5,3,6,8,9,12,99]\n",
    "print(list(enumerate(list8)))"
   ]
  },
  {
   "cell_type": "code",
   "execution_count": 48,
   "metadata": {},
   "outputs": [],
   "source": [
    "colors = ['Red', 'Blue', 'Green', 'Black', 'White']"
   ]
  },
  {
   "cell_type": "code",
   "execution_count": 49,
   "metadata": {},
   "outputs": [],
   "source": [
    "# Getting the first element\n",
    "first_col = colors[0]\n",
    "# Getting the second element\n",
    "second_col = colors[1]\n",
    "# Getting the last element\n",
    "newest_col = colors[-1]"
   ]
  },
  {
   "cell_type": "code",
   "execution_count": 50,
   "metadata": {},
   "outputs": [],
   "source": [
    "# Changing an element\n",
    "colors[0] = 'Yellow'\n",
    "colors[-2] = 'Red'"
   ]
  },
  {
   "cell_type": "code",
   "execution_count": 51,
   "metadata": {},
   "outputs": [],
   "source": [
    "# Adding an element to the end of the list\n",
    "colors.append('Orange')\n",
    "# Starting with an empty list\n",
    "colors = []\n",
    "colors.append('Red')\n",
    "colors.append('Blue')\n",
    "colors.append('Green')\n",
    "# Inserting elements at a particular position\n",
    "colors.insert(0, 'Violet')\n",
    "colors.insert(2, 'Purple')"
   ]
  },
  {
   "cell_type": "code",
   "execution_count": 53,
   "metadata": {},
   "outputs": [],
   "source": [
    "# Deleting an element by its position\n",
    "del colors[-1]\n",
    "# Removing an item by its value\n",
    "colors.remove('Purple')"
   ]
  },
  {
   "cell_type": "code",
   "execution_count": 54,
   "metadata": {},
   "outputs": [
    {
     "name": "stdout",
     "output_type": "stream",
     "text": [
      "Red\n",
      "Violet\n"
     ]
    }
   ],
   "source": [
    "# Pop the last item from a list\n",
    "most_recent_col = colors.pop()\n",
    "print(most_recent_col)\n",
    "# Pop the first item in a list\n",
    "first_col = colors.pop(0)\n",
    "print(first_col)"
   ]
  },
  {
   "cell_type": "markdown",
   "metadata": {},
   "source": [
    "Strings"
   ]
  },
  {
   "cell_type": "code",
   "execution_count": 55,
   "metadata": {},
   "outputs": [
    {
     "data": {
      "text/plain": [
       "10"
      ]
     },
     "execution_count": 55,
     "metadata": {},
     "output_type": "execute_result"
    }
   ],
   "source": [
    "def lengthofstring(words):\n",
    "    return len(words)\n",
    "\n",
    "lengthofstring(\"Harsha K H\")"
   ]
  },
  {
   "cell_type": "code",
   "execution_count": 115,
   "metadata": {},
   "outputs": [
    {
     "data": {
      "text/plain": [
       "['H', 'a', 'r', 's', 'h']"
      ]
     },
     "execution_count": 115,
     "metadata": {},
     "output_type": "execute_result"
    }
   ],
   "source": [
    "def charfrequency(words1):\n",
    "    dict= {}\n",
    "\n",
    "    for n in words1:\n",
    "        keys = dict.keys()\n",
    "        if n in keys:\n",
    "            dict[n] +=1\n",
    "        else:\n",
    "            dict[n] = 1\n",
    "\n",
    "    return list(dict)\n",
    "\n",
    "charfrequency('Harsha')"
   ]
  },
  {
   "cell_type": "code",
   "execution_count": 65,
   "metadata": {},
   "outputs": [
    {
     "data": {
      "text/plain": [
       "'Paar'"
      ]
     },
     "execution_count": 65,
     "metadata": {},
     "output_type": "execute_result"
    }
   ],
   "source": [
    "def firstandlasttwo(words2):\n",
    "    if len(words2)<= 4:\n",
    "        print(\"Not enough characters\")\n",
    "    else:\n",
    "        return words2[:2] + words2[-2:]\n",
    "\n",
    "firstandlasttwo(\"Pablo escobar\")"
   ]
  },
  {
   "cell_type": "code",
   "execution_count": 70,
   "metadata": {},
   "outputs": [
    {
     "name": "stdout",
     "output_type": "stream",
     "text": [
      "resta$t\n"
     ]
    }
   ],
   "source": [
    "def change_char(str1):\n",
    "    char = str1[0]\n",
    "    str1 = str1.replace(char, '$')\n",
    "    str1 = char + str1[1:]\n",
    "    return str1\n",
    "print(change_char('restart'))"
   ]
  },
  {
   "cell_type": "code",
   "execution_count": 71,
   "metadata": {},
   "outputs": [
    {
     "name": "stdout",
     "output_type": "stream",
     "text": [
      "gersha hanerator\n"
     ]
    }
   ],
   "source": [
    "def chars_mix_up(a, b):\n",
    "    new_a = b[:2] + a[2:]\n",
    "    new_b = a[:2] + b[2:]\n",
    "    return new_a + ' ' + new_b\n",
    "\n",
    "print(chars_mix_up('harsha', 'generator'))"
   ]
  },
  {
   "cell_type": "code",
   "execution_count": 84,
   "metadata": {},
   "outputs": [
    {
     "name": "stdout",
     "output_type": "stream",
     "text": [
      "sha\n"
     ]
    }
   ],
   "source": [
    "man = \"harsha\"\n",
    "print(man[-3::])"
   ]
  },
  {
   "cell_type": "code",
   "execution_count": 91,
   "metadata": {},
   "outputs": [
    {
     "data": {
      "text/plain": [
       "'harsha rajing'"
      ]
     },
     "execution_count": 91,
     "metadata": {},
     "output_type": "execute_result"
    }
   ],
   "source": [
    "def addingly(words4):\n",
    "    if words4[-3::]== \"ing\":\n",
    "        print(words4+\"ly\")\n",
    "    elif len(words4) <= 3:\n",
    "        print(words4)\n",
    "    else:\n",
    "        return words4 + \"ing\"\n",
    "    \n",
    "addingly(\"harsha raj\")\n"
   ]
  },
  {
   "cell_type": "code",
   "execution_count": 106,
   "metadata": {},
   "outputs": [
    {
     "data": {
      "text/plain": [
       "'harsha is a very good boy'"
      ]
     },
     "execution_count": 106,
     "metadata": {},
     "output_type": "execute_result"
    }
   ],
   "source": [
    "def notpoor(words5):\n",
    "    new_words5 = words5.split(\" \")\n",
    "    for i in range(0,len(new_words5)):\n",
    "        if new_words5[i]== \"not\":\n",
    "            new_words5[i] = \"very\"  \n",
    "            return \" \".join(new_words5)\n",
    "    return new_words5\n",
    "        \n",
    "\n",
    "notpoor(\"harsha is a not good boy\")\n"
   ]
  },
  {
   "cell_type": "code",
   "execution_count": 114,
   "metadata": {},
   "outputs": [
    {
     "name": "stdout",
     "output_type": "stream",
     "text": [
      "[(3, 'yes'), (6, 'harsha'), (16, 'dhehdiheihdedhie')]\n"
     ]
    },
    {
     "data": {
      "text/plain": [
       "(16, 'dhehdiheihdedhie')"
      ]
     },
     "execution_count": 114,
     "metadata": {},
     "output_type": "execute_result"
    }
   ],
   "source": [
    "def findlongestandreturnnumberofchar(words6):\n",
    "    new_words6 = []\n",
    "    for n in words6:\n",
    "        new_words6.append((len(n),n))\n",
    "\n",
    "    new_words6.sort()\n",
    "    print (new_words6)\n",
    "    return new_words6[-1][0],new_words6[-1][1]\n",
    "\n",
    "findlongestandreturnnumberofchar([\"harsha\",\"dhehdiheihdedhie\",\"yes\"])"
   ]
  },
  {
   "cell_type": "code",
   "execution_count": 117,
   "metadata": {},
   "outputs": [
    {
     "data": {
      "text/plain": [
       "'harsha h isss'"
      ]
     },
     "execution_count": 117,
     "metadata": {},
     "output_type": "execute_result"
    }
   ],
   "source": [
    "def removenthstring(words7,n):\n",
    "    new_words7 = words7[:n] + words7[n+1:]\n",
    "    return new_words7\n",
    "removenthstring(\"harsha kh isss\", 7)"
   ]
  },
  {
   "cell_type": "code",
   "execution_count": 123,
   "metadata": {},
   "outputs": [
    {
     "data": {
      "text/plain": [
       "'harxha'"
      ]
     },
     "execution_count": 123,
     "metadata": {},
     "output_type": "execute_result"
    }
   ],
   "source": [
    "def replacethstring(words8, n):\n",
    "    new_words8 = words8[:n] + 'x' + words8[n+1:]\n",
    "    return new_words8\n",
    "replacethstring(\"harsha\", 3)"
   ]
  },
  {
   "cell_type": "code",
   "execution_count": 125,
   "metadata": {},
   "outputs": [
    {
     "name": "stdout",
     "output_type": "stream",
     "text": [
      "asah\n"
     ]
    }
   ],
   "source": [
    "def giveoddindexchar(words9):\n",
    "    new_words9 = []\n",
    "    for i in range(len(words9)): \n",
    "        if i % 2 != 0:  \n",
    "            new_words9.append(words9[i]) \n",
    "    return \"\".join(new_words9) \n",
    "\n",
    "\n",
    "print(giveoddindexchar(\"harshakh\"))"
   ]
  },
  {
   "cell_type": "code",
   "execution_count": 127,
   "metadata": {},
   "outputs": [
    {
     "name": "stdout",
     "output_type": "stream",
     "text": [
      "harsha\n",
      "KH\n",
      "Basketball\n"
     ]
    }
   ],
   "source": [
    "words = [\"harsha\",\"KH\",\"Basketball\"]\n",
    "\n",
    "for word in range(0,len(words)):\n",
    "    print(words[word])"
   ]
  },
  {
   "cell_type": "code",
   "execution_count": 133,
   "metadata": {},
   "outputs": [
    {
     "data": {
      "text/plain": [
       "{'the': 2, 'basetball': 1, 'sitcom': 2, 'in': 1, 'crashed': 1}"
      ]
     },
     "execution_count": 133,
     "metadata": {},
     "output_type": "execute_result"
    }
   ],
   "source": [
    "def givefrequencyinasentence(sentence):\n",
    "    frequwncy = {}\n",
    "    words = sentence.split(\" \")\n",
    "    for word in words:\n",
    "        if word in frequwncy:\n",
    "            frequwncy[word]+= 1\n",
    "        else:\n",
    "            frequwncy[word]= 1\n",
    "    return frequwncy\n",
    "\n",
    "givefrequencyinasentence(\"the basetball the sitcom in sitcom crashed\")"
   ]
  }
 ],
 "metadata": {
  "kernelspec": {
   "display_name": "Python 3",
   "language": "python",
   "name": "python3"
  },
  "language_info": {
   "codemirror_mode": {
    "name": "ipython",
    "version": 3
   },
   "file_extension": ".py",
   "mimetype": "text/x-python",
   "name": "python",
   "nbconvert_exporter": "python",
   "pygments_lexer": "ipython3",
   "version": "3.10.11"
  }
 },
 "nbformat": 4,
 "nbformat_minor": 2
}
