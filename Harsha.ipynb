{
 "cells": [
  {
   "cell_type": "code",
   "execution_count": 1,
   "metadata": {},
   "outputs": [
    {
     "data": {
      "text/plain": [
       "8"
      ]
     },
     "execution_count": 1,
     "metadata": {},
     "output_type": "execute_result"
    }
   ],
   "source": [
    "3 + 5"
   ]
  },
  {
   "cell_type": "code",
   "execution_count": 1,
   "metadata": {},
   "outputs": [
    {
     "name": "stdout",
     "output_type": "stream",
     "text": [
      "Harsha\n"
     ]
    }
   ],
   "source": [
    "print(\"Harsha\")"
   ]
  },
  {
   "cell_type": "code",
   "execution_count": 2,
   "metadata": {},
   "outputs": [
    {
     "name": "stdout",
     "output_type": "stream",
     "text": [
      "<class 'float'>\n",
      "<class 'float'>\n",
      "1999.0\n",
      "Sorry it's not you\n"
     ]
    }
   ],
   "source": [
    "User_name = \"Harsha\"\n",
    "year = 1999\n",
    "height = 5.11\n",
    "\n",
    "print(type(height))\n",
    "year = float(year)\n",
    "print(type(year))\n",
    "print(year)\n",
    "is_me = False\n",
    "\n",
    "if is_me:\n",
    "    print(f\"My name is {User_name} and my year of birth is {year}. I'm measured at a height of {height}\")\n",
    "else:\n",
    "    print(\"Sorry it's not you\")"
   ]
  },
  {
   "cell_type": "code",
   "execution_count": 3,
   "metadata": {},
   "outputs": [
    {
     "name": "stdout",
     "output_type": "stream",
     "text": [
      "Hello world\n"
     ]
    }
   ],
   "source": [
    "print(\"Hello world\")"
   ]
  },
  {
   "cell_type": "code",
   "execution_count": 4,
   "metadata": {},
   "outputs": [
    {
     "name": "stdout",
     "output_type": "stream",
     "text": [
      "nigga\n"
     ]
    }
   ],
   "source": [
    "print('nigga')"
   ]
  },
  {
   "cell_type": "code",
   "execution_count": 5,
   "metadata": {},
   "outputs": [
    {
     "name": "stdout",
     "output_type": "stream",
     "text": [
      "8+5\n"
     ]
    }
   ],
   "source": [
    "print('8+5')"
   ]
  },
  {
   "cell_type": "code",
   "execution_count": 6,
   "metadata": {},
   "outputs": [
    {
     "name": "stdout",
     "output_type": "stream",
     "text": [
      "13\n"
     ]
    }
   ],
   "source": [
    "#hi this is my python goal\n",
    "print(8+5)"
   ]
  },
  {
   "cell_type": "code",
   "execution_count": 7,
   "metadata": {},
   "outputs": [
    {
     "name": "stdout",
     "output_type": "stream",
     "text": [
      "last_name\n"
     ]
    }
   ],
   "source": [
    "last_name = \"Bro\"\n",
    "print(\"last_name\")"
   ]
  },
  {
   "cell_type": "code",
   "execution_count": 8,
   "metadata": {},
   "outputs": [
    {
     "name": "stdout",
     "output_type": "stream",
     "text": [
      "f{firstname}\n"
     ]
    }
   ],
   "source": [
    "firstname = \"nigga\"\n",
    "print(\"f{firstname}\")"
   ]
  },
  {
   "cell_type": "code",
   "execution_count": 9,
   "metadata": {},
   "outputs": [
    {
     "name": "stdout",
     "output_type": "stream",
     "text": [
      "I like burger\n",
      "I like Basketball\n"
     ]
    }
   ],
   "source": [
    "# python program on print\n",
    "print(\"I like burger\")\n",
    "print(\"I like Basketball\")"
   ]
  },
  {
   "cell_type": "code",
   "execution_count": 10,
   "metadata": {},
   "outputs": [
    {
     "name": "stdout",
     "output_type": "stream",
     "text": [
      "Hello Bro\n"
     ]
    }
   ],
   "source": [
    "firstname = \"Bro\"\n",
    "print(f\"Hello {firstname}\")"
   ]
  },
  {
   "cell_type": "code",
   "execution_count": 11,
   "metadata": {},
   "outputs": [
    {
     "name": "stdout",
     "output_type": "stream",
     "text": [
      "my name is Broski and I like Pizza\n"
     ]
    }
   ],
   "source": [
    "firstname = \"Broski\"\n",
    "food = \"Pizza\"\n",
    "print(f\"my name is {firstname} and I like {food}\")"
   ]
  },
  {
   "cell_type": "code",
   "execution_count": 12,
   "metadata": {},
   "outputs": [
    {
     "name": "stdout",
     "output_type": "stream",
     "text": [
      "Nigga is not a student\n"
     ]
    }
   ],
   "source": [
    "is_student = False\n",
    "\n",
    "if is_student:\n",
    "    print(\"Nigga is a student\")\n",
    "else:\n",
    "    print(\"Nigga is not a student\")"
   ]
  },
  {
   "cell_type": "code",
   "execution_count": 13,
   "metadata": {},
   "outputs": [
    {
     "name": "stdout",
     "output_type": "stream",
     "text": [
      "Everything is a lie\n"
     ]
    }
   ],
   "source": [
    "print(\"Everything is a lie\")"
   ]
  },
  {
   "cell_type": "code",
   "execution_count": 14,
   "metadata": {},
   "outputs": [
    {
     "name": "stdout",
     "output_type": "stream",
     "text": [
      "False\n"
     ]
    }
   ],
   "source": [
    "name = \"\"\n",
    "name = bool(name)\n",
    "print(name)"
   ]
  },
  {
   "cell_type": "code",
   "execution_count": 15,
   "metadata": {},
   "outputs": [
    {
     "name": "stdout",
     "output_type": "stream",
     "text": [
      "get out of this college harsha\n"
     ]
    }
   ],
   "source": [
    "user = input(\"what's your name?\")\n",
    "print(f\"get out of this college {user}\")"
   ]
  },
  {
   "cell_type": "code",
   "execution_count": 16,
   "metadata": {},
   "outputs": [
    {
     "name": "stdout",
     "output_type": "stream",
     "text": [
      "Hello what's up harsha and you're 25 years old\n"
     ]
    }
   ],
   "source": [
    "name = input(\"what is your name? : \")\n",
    "age = input(\"Enter age of the student:\")\n",
    "print(f\"Hello what's up {name} and you're {age} years old\")\n"
   ]
  },
  {
   "cell_type": "code",
   "execution_count": 17,
   "metadata": {},
   "outputs": [
    {
     "name": "stdout",
     "output_type": "stream",
     "text": [
      "The area of the rectangle is : 2943.06cm^2\n"
     ]
    }
   ],
   "source": [
    "length = float(input(\"Enter the length of the rectangle\"))\n",
    "breadth = float(input(\"Enter the breadth\"))\n",
    "\n",
    "area = length * breadth\n",
    "\n",
    "print(f\"The area of the rectangle is : {area}cm^2\")"
   ]
  },
  {
   "cell_type": "code",
   "execution_count": 18,
   "metadata": {},
   "outputs": [
    {
     "name": "stdout",
     "output_type": "stream",
     "text": [
      "3\n"
     ]
    }
   ],
   "source": [
    "friends = 7\n",
    "friends /= 2\n",
    "friends = int(friends)\n",
    "print(friends)"
   ]
  },
  {
   "cell_type": "code",
   "execution_count": 19,
   "metadata": {},
   "outputs": [
    {
     "name": "stdout",
     "output_type": "stream",
     "text": [
      "16\n"
     ]
    }
   ],
   "source": [
    "a = 12.72\n",
    "b = 43\n",
    "c = -2\n",
    "\n",
    "result = pow(4 , 2)\n",
    "print(result)"
   ]
  },
  {
   "cell_type": "code",
   "execution_count": 20,
   "metadata": {},
   "outputs": [],
   "source": [
    "import math"
   ]
  },
  {
   "cell_type": "code",
   "execution_count": 21,
   "metadata": {},
   "outputs": [
    {
     "name": "stdout",
     "output_type": "stream",
     "text": [
      "3.141592653589793\n"
     ]
    }
   ],
   "source": [
    "print(math.pi)"
   ]
  },
  {
   "cell_type": "code",
   "execution_count": 22,
   "metadata": {},
   "outputs": [
    {
     "name": "stdout",
     "output_type": "stream",
     "text": [
      "5.205766033928148\n"
     ]
    }
   ],
   "source": [
    "a = 27.1\n",
    "b = math.sqrt(a)\n",
    "print(b)"
   ]
  },
  {
   "cell_type": "code",
   "execution_count": 23,
   "metadata": {},
   "outputs": [
    {
     "name": "stdout",
     "output_type": "stream",
     "text": [
      "The radius of the circle is: 157.07963267948966\n"
     ]
    }
   ],
   "source": [
    "#Radius of a circle\n",
    "\n",
    "r = float(input(\"Enter radius of the circle\"))\n",
    "circumference = 2 * math.pi * r\n",
    "print(f\"The radius of the circle is: {circumference}\")"
   ]
  },
  {
   "cell_type": "code",
   "execution_count": 24,
   "metadata": {},
   "outputs": [
    {
     "name": "stdout",
     "output_type": "stream",
     "text": [
      "Young nigga\n"
     ]
    }
   ],
   "source": [
    "age = int(input(\"Enter your age\"))\n",
    "\n",
    "if age > 25:\n",
    "    print(\"You're a senior citizen\")\n",
    "else:\n",
    "    print(\"Young nigga\")\n",
    "\n",
    "#eeee"
   ]
  },
  {
   "cell_type": "code",
   "execution_count": 33,
   "metadata": {},
   "outputs": [
    {
     "name": "stdout",
     "output_type": "stream",
     "text": [
      "6\n",
      "10\n"
     ]
    }
   ],
   "source": [
    "name = input(\"Enter the string literal\")\n",
    "result = len(name)\n",
    "result1 = name.rfind(\"k\")\n",
    "print(result1)\n",
    "print(result)"
   ]
  },
  {
   "cell_type": "code",
   "execution_count": 35,
   "metadata": {},
   "outputs": [
    {
     "name": "stdout",
     "output_type": "stream",
     "text": [
      "HARRY\n"
     ]
    }
   ],
   "source": [
    "nam = input(\"Enter the string\")\n",
    "nam = nam.upper()\n",
    "print(nam)"
   ]
  },
  {
   "cell_type": "code",
   "execution_count": 1,
   "metadata": {},
   "outputs": [
    {
     "data": {
      "text/plain": [
       "13"
      ]
     },
     "execution_count": 1,
     "metadata": {},
     "output_type": "execute_result"
    }
   ],
   "source": [
    "8+5"
   ]
  },
  {
   "cell_type": "code",
   "execution_count": 4,
   "metadata": {},
   "outputs": [
    {
     "name": "stdout",
     "output_type": "stream",
     "text": [
      "is_space is false\n"
     ]
    }
   ],
   "source": [
    "is_space = False\n",
    "\n",
    "while is_space:\n",
    "    print(\"Nigga\")\n",
    "\n",
    "print(\"is_space is false\")"
   ]
  },
  {
   "cell_type": "code",
   "execution_count": 9,
   "metadata": {},
   "outputs": [
    {
     "name": "stdout",
     "output_type": "stream",
     "text": [
      "You didn't enter your name\n",
      "Please enter your name\n",
      "You didn't enter your name\n",
      "Please enter your name\n",
      "You didn't enter your name\n",
      "Please enter your name\n",
      "You didn't enter your name\n",
      "Please enter your name\n",
      "the name you've entered is: islam\n"
     ]
    }
   ],
   "source": [
    "playername = input(\"Enter your name\")\n",
    "\n",
    "while playername == \"\":\n",
    "    print(\"You didn't enter your name\")\n",
    "    print(\"Please enter your name\")\n",
    "    playername = input(\"Enter your name\")\n",
    "\n",
    "print(f\"the name you've entered is: {playername}\")"
   ]
  },
  {
   "cell_type": "code",
   "execution_count": 15,
   "metadata": {},
   "outputs": [
    {
     "name": "stdout",
     "output_type": "stream",
     "text": [
      "plyer scoreless\n"
     ]
    }
   ],
   "source": [
    "playerscore = float(input(\"Enter the score\"))\n",
    "\n",
    "while not playerscore == 0:\n",
    "    print(f\"shai gilgeous alexander scored: {playerscore} points\")\n",
    "\n",
    "print(\"plyer scoreless\")"
   ]
  },
  {
   "cell_type": "code",
   "execution_count": 17,
   "metadata": {},
   "outputs": [
    {
     "name": "stdout",
     "output_type": "stream",
     "text": [
      "oh you like chapathi\n",
      "thanks you can leave now\n"
     ]
    }
   ],
   "source": [
    "food = input(\"Enter the food you like & q to quit\")\n",
    "\n",
    "while not food == \"q\":\n",
    "    print(f\"oh you like {food}\")\n",
    "    food = input(\"Enter the food you like & q to quit\")\n",
    "\n",
    "print(\"thanks you can leave now\")"
   ]
  },
  {
   "cell_type": "code",
   "execution_count": 25,
   "metadata": {},
   "outputs": [
    {
     "name": "stdout",
     "output_type": "stream",
     "text": [
      "The number 14 you've entered is either below or above the range\n"
     ]
    }
   ],
   "source": [
    "num = int(input(\"Enter the number between 1 to 10\"))\n",
    "\n",
    "while not num < 0 and num < 10:\n",
    "    print(f\"The number you've chosen is between 1 & 10 & the number is : {num}\")\n",
    "    num = int(input(\"Enter the number between 1 to 10 again\"))\n",
    "\n",
    "print(f\"The number {num} you've entered is either below or above the range\")"
   ]
  }
 ],
 "metadata": {
  "kernelspec": {
   "display_name": "Python 3",
   "language": "python",
   "name": "python3"
  },
  "language_info": {
   "codemirror_mode": {
    "name": "ipython",
    "version": 3
   },
   "file_extension": ".py",
   "mimetype": "text/x-python",
   "name": "python",
   "nbconvert_exporter": "python",
   "pygments_lexer": "ipython3",
   "version": "3.10.11"
  }
 },
 "nbformat": 4,
 "nbformat_minor": 2
}
